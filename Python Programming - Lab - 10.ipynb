{
 "cells": [
  {
   "cell_type": "markdown",
   "metadata": {},
   "source": [
    "<a href='https://www.darshan.ac.in/'> <img src='https://www.darshan.ac.in/Content/media/DU_Logo.svg' width=\"250\" height=\"300\"/></a>\n",
    "<pre>\n",
    "<center><b><h1>Python Programming - 2101CS405</b></center>\n",
    "<center><b><h1>Lab - 10</b></center>    \n",
    "<pre>"
   ]
  },
  {
   "cell_type": "markdown",
   "metadata": {},
   "source": [
    "# Modules"
   ]
  },
  {
   "cell_type": "markdown",
   "metadata": {},
   "source": [
    "# A"
   ]
  },
  {
   "cell_type": "markdown",
   "metadata": {},
   "source": [
    "### 01) WAP to create Calculator module which defines functions like add, sub,mul and div. create another file that uses the Calculator module."
   ]
  },
  {
   "cell_type": "code",
   "execution_count": 10,
   "metadata": {},
   "outputs": [
    {
     "name": "stdout",
     "output_type": "stream",
     "text": [
      "Please, Enter the first number: 12\n",
      "Please, Enter the second number: 12\n",
      "24\n",
      "0\n",
      "144\n",
      "1.0\n"
     ]
    }
   ],
   "source": [
    "import demo as c\n",
    "a = int(input('Please, Enter the first number: '))\n",
    "b = int(input('Please, Enter the second number: '))\n",
    "print(c.add(a,b))\n",
    "print(c.sub(a,b))\n",
    "print(c.multi(a,b))\n",
    "print(c.dev(a,b))\n"
   ]
  },
  {
   "cell_type": "markdown",
   "metadata": {},
   "source": [
    "### 02) WAP to Pick a random character from a given String."
   ]
  },
  {
   "cell_type": "code",
   "execution_count": 6,
   "metadata": {},
   "outputs": [
    {
     "name": "stdout",
     "output_type": "stream",
     "text": [
      "Enter Random String :dhruv\n",
      "u\n"
     ]
    }
   ],
   "source": [
    "import random\n",
    "a= input(\"Enter Random String :\")\n",
    "t=int(len(a)*random.random())\n",
    "print(a[t])"
   ]
  },
  {
   "cell_type": "markdown",
   "metadata": {},
   "source": [
    "### 03) WAP to Pick a random element from a given list."
   ]
  },
  {
   "cell_type": "code",
   "execution_count": 17,
   "metadata": {},
   "outputs": [
    {
     "name": "stdout",
     "output_type": "stream",
     "text": [
      "Random element from list is : Green\n"
     ]
    }
   ],
   "source": [
    "import random\n",
    "color_list = ['Red', 'Blue', 'Green', 'White', 'Black']\n",
    "print(\"Random element from list is :\",random.choice(color_list))"
   ]
  },
  {
   "cell_type": "markdown",
   "metadata": {},
   "source": [
    "### 04) WAP to demonstrate the use of the math module."
   ]
  },
  {
   "cell_type": "code",
   "execution_count": 22,
   "metadata": {},
   "outputs": [
    {
     "name": "stdout",
     "output_type": "stream",
     "text": [
      "3.141592653589793\n"
     ]
    }
   ],
   "source": [
    "import math\n",
    "print (math.pi)"
   ]
  },
  {
   "cell_type": "markdown",
   "metadata": {},
   "source": [
    "### 05) WAP to demonstrate the use of date time module."
   ]
  },
  {
   "cell_type": "code",
   "execution_count": 8,
   "metadata": {},
   "outputs": [
    {
     "name": "stdout",
     "output_type": "stream",
     "text": [
      "Date passed as argument is 1996-12-11 00:00:00\n",
      "2023-02-14 12:44:49.090230\n"
     ]
    }
   ],
   "source": [
    "from datetime import datetime\n",
    "my_date = datetime(1996, 12, 11)\n",
    " \n",
    "print(\"Date passed as argument is\", my_date)\n",
    "print(datetime.now())"
   ]
  },
  {
   "cell_type": "markdown",
   "metadata": {},
   "source": [
    "# B"
   ]
  },
  {
   "cell_type": "markdown",
   "metadata": {},
   "source": [
    "### 01) WAP to Roll dice in such a way that every time you get the same number."
   ]
  },
  {
   "cell_type": "code",
   "execution_count": 19,
   "metadata": {},
   "outputs": [
    {
     "name": "stdout",
     "output_type": "stream",
     "text": [
      "enter the num4\n",
      "5\n"
     ]
    }
   ],
   "source": [
    "import random\n",
    "\n",
    "a=int(input(\"enter the num\"))\n",
    "count=0\n",
    "b=0\n",
    "while True:\n",
    "    \n",
    "    if a==b:\n",
    "        print(count)\n",
    "        break\n",
    "    else:\n",
    "        b=int(7*random.random())\n",
    "        count=count+1\n",
    "    \n",
    "\n",
    "    "
   ]
  },
  {
   "cell_type": "markdown",
   "metadata": {},
   "source": [
    "### 02) WAP to generate 3 random integers between 100 and 999 which is divisible by 5."
   ]
  },
  {
   "cell_type": "code",
   "execution_count": 28,
   "metadata": {},
   "outputs": [
    {
     "name": "stdout",
     "output_type": "stream",
     "text": [
      "Generated Numbers: 955 280 100\n"
     ]
    }
   ],
   "source": [
    "import random\n",
    "\n",
    "a = random.randrange(100, 999, 5)\n",
    "b = random.randrange(100, 999, 5)\n",
    "c = random.randrange(100, 999, 5)\n",
    "\n",
    "print(\"Generated Numbers:\", a, b, c)"
   ]
  },
  {
   "cell_type": "markdown",
   "metadata": {},
   "source": [
    "### 03) WAP to generate 100 random lottery tickets and pick two lucky tickets from it as a winner."
   ]
  },
  {
   "cell_type": "code",
   "execution_count": 29,
   "metadata": {},
   "outputs": [
    {
     "name": "stdout",
     "output_type": "stream",
     "text": [
      "Winners are: [853482, 731487]\n"
     ]
    }
   ],
   "source": [
    "import random\n",
    "lottery_ticket_list=[]\n",
    "for i in range(100):\n",
    "    lottery_ticket_list.append(random.randrange(100000,999999))   \n",
    "winners=random.choices(lottery_ticket_list,k=2)\n",
    "print(\"Winners are:\", winners)"
   ]
  },
  {
   "cell_type": "markdown",
   "metadata": {},
   "source": [
    "### 04) WAP to print current date and time in Python."
   ]
  },
  {
   "cell_type": "code",
   "execution_count": 31,
   "metadata": {},
   "outputs": [
    {
     "name": "stdout",
     "output_type": "stream",
     "text": [
      "Current date and time : \n",
      "14-02-23 13:15:38\n"
     ]
    }
   ],
   "source": [
    "import datetime\n",
    "now = datetime.datetime.now()\n",
    "print (\"Current date and time : \")\n",
    "print (now.strftime(\"%d-%m-%y %H:%M:%S\"))"
   ]
  },
  {
   "cell_type": "markdown",
   "metadata": {},
   "source": [
    "### 05) Subtract a week (7 days) from a given date in Python."
   ]
  },
  {
   "cell_type": "code",
   "execution_count": 1,
   "metadata": {},
   "outputs": [
    {
     "name": "stdout",
     "output_type": "stream",
     "text": [
      "Current Date : 2023-02-06\n",
      "7 days before Current Date : 2023-01-30\n"
     ]
    }
   ],
   "source": [
    "from datetime import date, timedelta\n",
    "dt = date.today() - timedelta(7)\n",
    "print('Current Date :',date.today())\n",
    "print('7 days before Current Date :',dt)"
   ]
  },
  {
   "cell_type": "markdown",
   "metadata": {},
   "source": [
    "### 06) WAP to Calculate number of days between two given dates."
   ]
  },
  {
   "cell_type": "code",
   "execution_count": 33,
   "metadata": {},
   "outputs": [
    {
     "name": "stdout",
     "output_type": "stream",
     "text": [
      "9\n"
     ]
    }
   ],
   "source": [
    "from datetime import date\n",
    "f_date = date(2014, 7, 2)\n",
    "l_date = date(2014, 7, 11)\n",
    "delta = l_date - f_date\n",
    "print(delta.days)"
   ]
  },
  {
   "cell_type": "markdown",
   "metadata": {},
   "source": [
    "### 07) WAP to Find the day of the week of a given date."
   ]
  },
  {
   "cell_type": "code",
   "execution_count": 34,
   "metadata": {},
   "outputs": [
    {
     "name": "stdout",
     "output_type": "stream",
     "text": [
      "Sunday\n"
     ]
    }
   ],
   "source": [
    "import datetime\n",
    "import calendar\n",
    " \n",
    "def findDay(date):\n",
    "    born = datetime.datetime.strptime(date, '%d %m %Y').weekday()\n",
    "    return (calendar.day_name[born])\n",
    "\n",
    "date = '03 02 2019'\n",
    "print(findDay(date))"
   ]
  },
  {
   "cell_type": "code",
   "execution_count": 42,
   "metadata": {},
   "outputs": [
    {
     "ename": "SyntaxError",
     "evalue": "invalid syntax (896535705.py, line 1)",
     "output_type": "error",
     "traceback": [
      "\u001b[1;36m  File \u001b[1;32m\"C:\\Users\\dhruv\\AppData\\Local\\Temp\\ipykernel_2776\\896535705.py\"\u001b[1;36m, line \u001b[1;32m1\u001b[0m\n\u001b[1;33m    type(2+7i)\u001b[0m\n\u001b[1;37m            ^\u001b[0m\n\u001b[1;31mSyntaxError\u001b[0m\u001b[1;31m:\u001b[0m invalid syntax\n"
     ]
    }
   ],
   "source": [
    "type(2+)"
   ]
  },
  {
   "cell_type": "code",
   "execution_count": null,
   "metadata": {},
   "outputs": [],
   "source": []
  }
 ],
 "metadata": {
  "kernelspec": {
   "display_name": "Python 3 (ipykernel)",
   "language": "python",
   "name": "python3"
  },
  "language_info": {
   "codemirror_mode": {
    "name": "ipython",
    "version": 3
   },
   "file_extension": ".py",
   "mimetype": "text/x-python",
   "name": "python",
   "nbconvert_exporter": "python",
   "pygments_lexer": "ipython3",
   "version": "3.9.13"
  },
  "vscode": {
   "interpreter": {
    "hash": "d66112998521399a9abf5716df753254eaf884f9c94a9394872699fcdd6e7cd2"
   }
  }
 },
 "nbformat": 4,
 "nbformat_minor": 4
}
